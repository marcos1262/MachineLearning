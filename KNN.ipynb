{
 "cells": [
  {
   "cell_type": "code",
   "execution_count": 30,
   "metadata": {
    "collapsed": true
   },
   "outputs": [],
   "source": [
    "import pandas as pd\n",
    "from heapq import *\n",
    "import operator\n",
    "from scipy.spatial import distance\n",
    "\n",
    "from sklearn.model_selection import train_test_split\n",
    "from sklearn.metrics import accuracy_score\n",
    "from sklearn.neighbors import KNeighborsClassifier\n",
    "\n",
    "pd.set_option(\"display.width\", 130)\n"
   ]
  },
  {
   "cell_type": "code",
   "execution_count": 31,
   "metadata": {
    "collapsed": true
   },
   "outputs": [],
   "source": [
    "# Pokemon dataset\n",
    "pk = pd.read_csv(\"/home/marcos/Dropbox/NEMO/datasets/pokemon-challenge/pokemon.csv\", index_col=0)\n",
    "\n",
    "pkType = pd.DataFrame(pk[\"Type 1\"])\n",
    "pkNum = pk.iloc[:, 3:len(pk.columns) - 1]\n",
    "\n",
    "combats = pd.read_csv(\"/home/marcos/Dropbox/NEMO/datasets/pokemon-challenge/combats.csv\")\n",
    "\n",
    "combats = pd.merge(combats, pkNum, \"inner\", left_on=combats[\"First_pokemon\"], right_index=True)\n",
    "combats = pd.merge(combats, pkNum, \"inner\", left_on=combats[\"Second_pokemon\"], right_index=True)\n",
    "\n",
    "combats[\"First_win\"] = (combats.Winner == combats[\"First_pokemon\"]).astype(int)\n",
    "combats = combats.iloc[:, 3:len(combats.columns)]\n",
    "\n",
    "X = combats.iloc[:, :len(combats.columns) - 1]\n",
    "y = combats.iloc[:, len(combats.columns) - 1]\n",
    "\n",
    "# print(pkNum.head())\n",
    "# print(combats.head())\n",
    "# print(X.head())\n",
    "# print(y.head())\n"
   ]
  },
  {
   "cell_type": "code",
   "execution_count": 32,
   "metadata": {},
   "outputs": [],
   "source": [
    "X_train, X_test, y_train, y_test = train_test_split(X.iloc[:100], y.iloc[:100])\n"
   ]
  },
  {
   "cell_type": "code",
   "execution_count": 33,
   "metadata": {},
   "outputs": [],
   "source": [
    "test = pd.read_csv(\"/home/marcos/Dropbox/NEMO/datasets/pokemon-challenge/tests.csv\")\n",
    "\n",
    "test = pd.merge(test, pkNum, \"inner\", left_on=test[\"First_pokemon\"], right_index=True)\n",
    "test = pd.merge(test, pkNum, \"inner\", left_on=test[\"Second_pokemon\"], right_index=True)\n",
    "\n",
    "test = test.iloc[:, 2:len(combats.columns)]\n",
    "\n",
    "# print(test.head())\n"
   ]
  },
  {
   "cell_type": "code",
   "execution_count": 38,
   "metadata": {},
   "outputs": [],
   "source": [
    "class MyKNN:\n",
    "    def __init__(self, K=5):\n",
    "        self.K = K\n",
    "        self.X_train = pd.DataFrame()\n",
    "        self.y_train = pd.Series()\n",
    "\n",
    "    def calc_K_closest(self, X_test):\n",
    "        c = []\n",
    "        X = self.X_train\n",
    "        y = self.y_train\n",
    "\n",
    "        for i in range(len(X)):\n",
    "            heappush(c, (distance.euclidean(X_test, X.iloc[i]), y.iloc[i]))\n",
    "\n",
    "        return [heappop(c) for _ in range(self.K)]\n",
    "\n",
    "    @staticmethod\n",
    "    def better_closest(K_closest):\n",
    "        labels = [c[1] for c in K_closest]\n",
    "        count = {}\n",
    "        for i in labels:\n",
    "            count[i] = labels.count(i)\n",
    "        sortedCount = sorted(count.items(), key=operator.itemgetter(1), reverse=True)\n",
    "        return sortedCount[0][0]\n",
    "\n",
    "\n",
    "    # Train classifier\n",
    "    def fit(self, X_train, y_train):\n",
    "        self.X_train = pd.DataFrame(X_train)\n",
    "        self.y_train = pd.Series(y_train)\n",
    "\n",
    "    def predict(self, X_test):\n",
    "        X_test = pd.DataFrame(X_test)\n",
    "        best_label = []\n",
    "\n",
    "        for row in X_test.values:\n",
    "            K_closest = self.calc_K_closest(row)\n",
    "            best_label.append(self.better_closest(K_closest))\n",
    "        return best_label\n"
   ]
  },
  {
   "cell_type": "code",
   "execution_count": 39,
   "metadata": {},
   "outputs": [
    {
     "name": "stdout",
     "output_type": "stream",
     "text": [
      "K= 2 Accuracy MyKNN: 0.96\nK= 2 Accuracy sklearn: 0.96\n"
     ]
    },
    {
     "name": "stdout",
     "output_type": "stream",
     "text": [
      "K= 3 Accuracy MyKNN: 0.88\nK= 3 Accuracy sklearn: 0.88\n"
     ]
    },
    {
     "name": "stdout",
     "output_type": "stream",
     "text": [
      "K= 4 Accuracy MyKNN: 0.92\nK= 4 Accuracy sklearn: 0.92\n"
     ]
    },
    {
     "name": "stdout",
     "output_type": "stream",
     "text": [
      "K= 5 Accuracy MyKNN: 0.88\nK= 5 Accuracy sklearn: 0.88\n"
     ]
    },
    {
     "name": "stdout",
     "output_type": "stream",
     "text": [
      "K= 6 Accuracy MyKNN: 0.96\nK= 6 Accuracy sklearn: 0.96\n"
     ]
    },
    {
     "name": "stdout",
     "output_type": "stream",
     "text": [
      "K= 7 Accuracy MyKNN: 0.92\nK= 7 Accuracy sklearn: 0.92\n"
     ]
    },
    {
     "name": "stdout",
     "output_type": "stream",
     "text": [
      "K= 8 Accuracy MyKNN: 0.96\nK= 8 Accuracy sklearn: 0.96\n"
     ]
    },
    {
     "name": "stdout",
     "output_type": "stream",
     "text": [
      "K= 9 Accuracy MyKNN: 0.96\nK= 9 Accuracy sklearn: 0.96\n"
     ]
    },
    {
     "name": "stdout",
     "output_type": "stream",
     "text": [
      "K= 10 Accuracy MyKNN: 0.96\nK= 10 Accuracy sklearn: 0.96\n"
     ]
    }
   ],
   "source": [
    "for k in range(2, 11): \n",
    "    my_clf = MyKNN(K=k)\n",
    "    my_clf.fit(X_train, y_train)\n",
    "    \n",
    "    predictions = my_clf.predict(X_test)\n",
    "    # print(predictions)\n",
    "    \n",
    "    clf = KNeighborsClassifier(n_neighbors=k)\n",
    "    clf.fit(X_train, y_train)\n",
    "    \n",
    "    # CHECK ACCURACY\n",
    "    print(\"K=\", k, \"Accuracy MyKNN:\", accuracy_score(y_test, predictions))\n",
    "    print(\"K=\", k, \"Accuracy sklearn:\", clf.score(X_test, y_test))\n"
   ]
  },
  {
   "cell_type": "code",
   "execution_count": null,
   "metadata": {},
   "outputs": [],
   "source": []
  }
 ],
 "metadata": {
  "kernelspec": {
   "display_name": "Python 2",
   "language": "python",
   "name": "python2"
  },
  "language_info": {
   "codemirror_mode": {
    "name": "ipython",
    "version": 2
   },
   "file_extension": ".py",
   "mimetype": "text/x-python",
   "name": "python",
   "nbconvert_exporter": "python",
   "pygments_lexer": "ipython2",
   "version": "2.7.6"
  }
 },
 "nbformat": 4,
 "nbformat_minor": 0
}
