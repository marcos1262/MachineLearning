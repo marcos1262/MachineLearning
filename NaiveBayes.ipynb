{
 "cells": [
  {
   "cell_type": "code",
   "execution_count": 1,
   "metadata": {
    "collapsed": true
   },
   "outputs": [],
   "source": [
    "import numpy as np\n",
    "import pandas as pd\n",
    "\n",
    "from sklearn.model_selection import train_test_split\n",
    "from sklearn.metrics import accuracy_score\n",
    "from sklearn.naive_bayes import GaussianNB\n",
    "\n",
    "pd.set_option(\"display.width\", 130)\n"
   ]
  },
  {
   "cell_type": "code",
   "execution_count": 2,
   "metadata": {
    "collapsed": true
   },
   "outputs": [
    {
     "name": "stdout",
     "output_type": "stream",
     "text": [
      "       HP_x  Attack_x  Defense_x  Sp. Atk_x  Sp. Def_x  Speed_x  Generation_x  HP_y  Attack_y  Defense_y  Sp. Atk_y  Sp. Def_y  \\\n0        50        64         50         45         50       41             2    70        70         40         60         40   \n14235    70        80         50         35         35       35             1    70        70         40         60         40   \n21465   110        78         73         76         71       60             3    70        70         40         60         40   \n31953    50        65        107        105        107       86             4    70        70         40         60         40   \n40327    73       115         60         60         60       90             3    70        70         40         60         40   \n\n       Speed_y  Generation_y  \n0           60             3  \n14235       60             3  \n21465       60             3  \n31953       60             3  \n40327       60             3  \n"
     ]
    }
   ],
   "source": [
    "# Pokemon dataset\n",
    "pk = pd.read_csv(\"/home/marcos/Dropbox/NEMO/datasets/pokemon-challenge/pokemon.csv\", index_col=0)\n",
    "\n",
    "pkType = pd.DataFrame(pk[\"Type 1\"])\n",
    "pkNum = pk.iloc[:, 3:len(pk.columns) - 1]\n",
    "\n",
    "combats = pd.read_csv(\"/home/marcos/Dropbox/NEMO/datasets/pokemon-challenge/combats.csv\")\n",
    "\n",
    "combats = pd.merge(combats, pkNum, \"inner\", left_on=combats[\"First_pokemon\"], right_index=True)\n",
    "combats = pd.merge(combats, pkNum, \"inner\", left_on=combats[\"Second_pokemon\"], right_index=True)\n",
    "\n",
    "combats[\"First_win\"] = (combats.Winner == combats[\"First_pokemon\"]).astype(int)\n",
    "combats = combats.iloc[:, 3:len(combats.columns)]\n",
    "\n",
    "X = combats.iloc[:, :len(combats.columns) - 1]\n",
    "y = combats.iloc[:, len(combats.columns) - 1]\n",
    "\n",
    "# print(pkNum.head())\n",
    "# print(combats.head())\n",
    "print(X.head())\n",
    "# print(y.head())\n"
   ]
  },
  {
   "cell_type": "code",
   "execution_count": 3,
   "metadata": {},
   "outputs": [],
   "source": [
    "X_train, X_test, y_train, y_test = train_test_split(X.iloc[:1000], y.iloc[:1000])\n"
   ]
  },
  {
   "cell_type": "code",
   "execution_count": 4,
   "metadata": {},
   "outputs": [],
   "source": [
    "test = pd.read_csv(\"/home/marcos/Dropbox/NEMO/datasets/pokemon-challenge/tests.csv\")\n",
    "\n",
    "test = pd.merge(test, pkNum, \"inner\", left_on=test[\"First_pokemon\"], right_index=True)\n",
    "test = pd.merge(test, pkNum, \"inner\", left_on=test[\"Second_pokemon\"], right_index=True)\n",
    "\n",
    "test = test.iloc[:, 2:len(combats.columns)]\n",
    "\n",
    "# print(test.head())\n"
   ]
  },
  {
   "cell_type": "code",
   "execution_count": 5,
   "metadata": {},
   "outputs": [],
   "source": [
    "class MyNaiveBayes:\n",
    "    def __init__(self):\n",
    "        self.X_train = pd.DataFrame()\n",
    "        self.y_train = pd.Series()\n",
    "        self.separated = {}\n",
    "        self.mean_std_class = {}\n",
    "\n",
    "    # Separate rows by label\n",
    "    def separate_class(self):\n",
    "        X = self.X_train\n",
    "        y = self.y_train\n",
    "        s = self.separated\n",
    "\n",
    "        for i in range(len(X)):\n",
    "            row = X.iloc[i]\n",
    "            label = y.iloc[i]\n",
    "            if label not in s:\n",
    "                s[label] = []\n",
    "            s[label].append(row)\n",
    "\n",
    "    @staticmethod\n",
    "    def std(x):\n",
    "        avg = np.average(x)\n",
    "        variance = np.sum([(i - avg) ** 2 for i in x]) / float(len(x) - 1)\n",
    "        return np.sqrt(variance)\n",
    "\n",
    "    # Calculate mean and std for the features of each class\n",
    "    def calc_mean_std_class(self):\n",
    "        for label, X in self.separated.items():\n",
    "            self.mean_std_class[label] = [(np.average(col), self.std(col)) for col in zip(*X)]\n",
    "\n",
    "    @staticmethod\n",
    "    def calc_prob(x, mean, std):\n",
    "        exp = np.exp(-((x - mean) ** 2 / (2 * std ** 2)))\n",
    "        return (1 / (np.sqrt(2 * np.pi) * std)) * exp\n",
    "\n",
    "    # Calculate probability of belonging to one class\n",
    "    def calc_prob_class(self, X_test):\n",
    "        X_test = pd.Series(X_test)\n",
    "        prob = []\n",
    "        for label, mean_std in self.mean_std_class.items():\n",
    "            p = 1\n",
    "            for i in range(len(mean_std)):\n",
    "                mean, std = mean_std[i]\n",
    "                x = X_test.iloc[i]\n",
    "                p *= self.calc_prob(x, mean, std)\n",
    "            prob.append((label, p))\n",
    "        return prob\n",
    "\n",
    "    # Train classifier\n",
    "    def fit(self, X_train, y_train):\n",
    "        self.X_train = pd.DataFrame(X_train)\n",
    "        self.y_train = pd.Series(y_train)\n",
    "\n",
    "        self.separate_class()\n",
    "        self.calc_mean_std_class()\n",
    "\n",
    "    def predict(self, X_test):\n",
    "        X_test = pd.DataFrame(X_test)\n",
    "        best_label = []\n",
    "        for row in X_test.values:\n",
    "            prob_class = self.calc_prob_class(row)\n",
    "            best_label.append(max(prob_class, key=(lambda i: i[1]))[0])\n",
    "        return best_label\n"
   ]
  },
  {
   "cell_type": "code",
   "execution_count": 6,
   "metadata": {},
   "outputs": [
    {
     "name": "stdout",
     "output_type": "stream",
     "text": [
      "Accuracy MyNaiveBayes: 0.828\nAccuracy sklearn: 0.828\n"
     ]
    }
   ],
   "source": [
    "my_clf = MyNaiveBayes()\n",
    "my_clf.fit(X_train, y_train)\n",
    "\n",
    "predictions = my_clf.predict(X_test)\n",
    "# print(predictions)\n",
    "\n",
    "clf = GaussianNB()\n",
    "clf.fit(X_train, y_train)\n",
    "\n",
    "# CHECK ACCURACY\n",
    "print(\"Accuracy MyNaiveBayes:\", accuracy_score(y_test, predictions))\n",
    "print(\"Accuracy sklearn:\", clf.score(X_test, y_test))\n"
   ]
  },
  {
   "cell_type": "code",
   "execution_count": null,
   "metadata": {},
   "outputs": [],
   "source": []
  }
 ],
 "metadata": {
  "kernelspec": {
   "display_name": "Python 2",
   "language": "python",
   "name": "python2"
  },
  "language_info": {
   "codemirror_mode": {
    "name": "ipython",
    "version": 2
   },
   "file_extension": ".py",
   "mimetype": "text/x-python",
   "name": "python",
   "nbconvert_exporter": "python",
   "pygments_lexer": "ipython2",
   "version": "2.7.6"
  }
 },
 "nbformat": 4,
 "nbformat_minor": 0
}
